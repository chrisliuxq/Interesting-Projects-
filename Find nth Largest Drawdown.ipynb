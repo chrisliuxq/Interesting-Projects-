{
 "cells": [
  {
   "cell_type": "code",
   "execution_count": 284,
   "metadata": {},
   "outputs": [],
   "source": [
    "def drawdowncalc(rets, N):\n",
    "  # rets is a list of returns; N is nth largest drawdown \n",
    "    outter_list = []\n",
    "    outter_list.append(rets)\n",
    "    n = 0\n",
    "    while n < N:\n",
    "        drawdown_list = []\n",
    "        largest_drawdown = []\n",
    "        for inner_list in outter_list:\n",
    "            i_1 = [index for (index,value) in enumerate(inner_list) if value==max(inner_list)]\n",
    "            i_peak = min(i_1)\n",
    "            peak = inner_list[i_peak]\n",
    "            new_list = inner_list[i_peak:]\n",
    "            i_2 = [index for (index,value) in enumerate(inner_list) if value==min(new_list)]\n",
    "            i_trough = max(i_2)\n",
    "            trough = inner_list[i_trough]\n",
    "            drawdown = peak - trough\n",
    "            drawdown_list.append(drawdown)\n",
    "       \n",
    "        if len(drawdown_list)==1 and drawdown_list[0]==0:\n",
    "            return None\n",
    "            break\n",
    "\n",
    "        max_drawdown_index = [index for (index,value) in enumerate(drawdown_list) if value==max(drawdown_list)]\n",
    "        max_drawdown_index.reverse()\n",
    "        for i in max_drawdown_index:\n",
    "            target = outter_list[i]\n",
    "            i_1 = [index for (index,value) in enumerate(target) if value==max(target)]\n",
    "            i_peak = min(i_1)\n",
    "            new_list = target[i_peak:]\n",
    "            \n",
    "            if not new_list:\n",
    "                return None\n",
    "                break \n",
    "                \n",
    "            i_2 = [index for (index,value) in enumerate(target) if value==min(new_list)]\n",
    "            i_trough = max(i_2)\n",
    "\n",
    "            result = 1\n",
    "            counter = int(i_peak+1)\n",
    "            while counter<i_trough+1:\n",
    "                result*=(1+float(target[counter]))\n",
    "                counter+=1\n",
    "            result = result-1\n",
    "            \n",
    "            largest_drawdown.append(result)\n",
    "            outter_list.insert(outter_list.index(target)+1,target[:i_peak])\n",
    "            outter_list.insert(outter_list.index(target)+2,target[i_trough+1:])\n",
    "            del outter_list[outter_list.index(target)]\n",
    "            outter_list = list(filter(None,outter_list))\n",
    "        n+=1\n",
    "\n",
    "    largest_drawdown = list(map(lambda x: '{:.4f}'.format(x),largest_drawdown))\n",
    "\n",
    "    largest_drawdown.reverse()\n",
    "    return largest_drawdown"
   ]
  },
  {
   "cell_type": "code",
   "execution_count": null,
   "metadata": {},
   "outputs": [],
   "source": []
  }
 ],
 "metadata": {
  "kernelspec": {
   "display_name": "Python 3",
   "language": "python",
   "name": "python3"
  },
  "language_info": {
   "codemirror_mode": {
    "name": "ipython",
    "version": 3
   },
   "file_extension": ".py",
   "mimetype": "text/x-python",
   "name": "python",
   "nbconvert_exporter": "python",
   "pygments_lexer": "ipython3",
   "version": "3.7.3"
  }
 },
 "nbformat": 4,
 "nbformat_minor": 2
}
